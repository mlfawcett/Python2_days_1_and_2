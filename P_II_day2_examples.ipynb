{
 "cells": [
  {
   "cell_type": "code",
   "execution_count": 5,
   "metadata": {},
   "outputs": [
    {
     "name": "stdout",
     "output_type": "stream",
     "text": [
      "\n",
      "Name: michael\n",
      "Email: mlf@mcc.edu\n",
      "ID: aa1234\n",
      "Major: sftware eng\n",
      "Study Year: soph\n",
      "\n",
      "Name: george\n",
      "Email: george@mcc.edu\n",
      "ID: dd54321\n",
      "Major: sftware eng\n",
      "Study Year: junior\n",
      "\n",
      "Name: Tom\n",
      "Email: tom@mcc.edu\n",
      "ID: s34567\n",
      "Phone: 555-1234\n",
      "Salary: 100000\n",
      "\n",
      "Name: Fred\n",
      "Email: fred@mcc.edu\n",
      "ID: s23456\n",
      "Phone: 555-9876\n",
      "Salary: 100000\n"
     ]
    }
   ],
   "source": [
    "class Person:\n",
    "    def __init__(self, name, email, ID):\n",
    "        self.name = name\n",
    "        self.email = email\n",
    "        self.ID = ID\n",
    "        \n",
    "class Student(Person):\n",
    "    def __init__(self, name, email, ID, major, studyYear):\n",
    "        super().__init__(name, email, ID)\n",
    "        self.major = major\n",
    "        self.studyYear = studyYear\n",
    "        \n",
    "class Staff(Person):\n",
    "    def __init__(self, name, email, ID, collPhone, salary):\n",
    "        super().__init__(name, email, ID)\n",
    "        self.collPhone = collPhone\n",
    "        self.salary = salary\n",
    "        \n",
    "StudentOne = Student(\"michael\", \"mlf@mcc.edu\", \"aa1234\", \"sftware eng\", \"soph\")\n",
    "StudentTwo = Student(\"george\", \"george@mcc.edu\", \"dd54321\", \"sftware eng\", \"junior\")\n",
    "\n",
    "StaffOne = Staff(\"Tom\", \"tom@mcc.edu\", \"s34567\", \"555-1234\", \"100000\")\n",
    "StaffTwo = Staff(\"Fred\", \"fred@mcc.edu\", \"s23456\", \"555-9876\", \"100000\")\n",
    "\n",
    "# Student One\n",
    "print()\n",
    "print('Name:', StudentOne.name)\n",
    "print('Email:', StudentOne.email)\n",
    "print('ID:', StudentOne.ID)\n",
    "print('Major:', StudentOne.major)\n",
    "print('Study Year:', StudentOne.studyYear)\n",
    "\n",
    "\n",
    "# Student Two\n",
    "print()\n",
    "print('Name:', StudentTwo.name)\n",
    "print('Email:', StudentTwo.email)\n",
    "print('ID:', StudentTwo.ID)\n",
    "print('Major:', StudentTwo.major)\n",
    "print('Study Year:', StudentTwo.studyYear)\n",
    "\n",
    "\n",
    "# Staff One\n",
    "print()\n",
    "print('Name:', StaffOne.name)\n",
    "print('Email:', StaffOne.email)\n",
    "print('ID:', StaffOne.ID)\n",
    "print('Phone:', StaffOne.collPhone)\n",
    "print('Salary:', StaffOne.salary)\n",
    "\n",
    "# Staff two\n",
    "print()\n",
    "print('Name:', StaffTwo.name)\n",
    "print('Email:', StaffTwo.email)\n",
    "print('ID:', StaffTwo.ID)\n",
    "print('Phone:', StaffTwo.collPhone)\n",
    "print('Salary:', StaffTwo.salary)"
   ]
  },
  {
   "cell_type": "code",
   "execution_count": 8,
   "metadata": {},
   "outputs": [],
   "source": [
    "class Auto:\n",
    "    def __init__(self, make, model):\n",
    "        self.make = make\n",
    "        self.model = model\n",
    "\n",
    "class Car(Auto):\n",
    "    def __init__(self, make, model):\n",
    "        super().__init__(make, model)\n",
    "        self.doors = 4\n",
    "\n",
    "class Suv(Auto):\n",
    "    def __init__(self, make, model):\n",
    "        super().__init__(make, model)\n",
    "        self.doors = 5\n",
    "\n",
    "oneCar = Car(\"Chevy\", \"Malibu\")\n",
    "twoSuv = Suv(\"Ford\", \"Bronko\")\n",
    "\n"
   ]
  },
  {
   "cell_type": "code",
   "execution_count": 9,
   "metadata": {},
   "outputs": [
    {
     "data": {
      "text/plain": [
       "'Chevy'"
      ]
     },
     "execution_count": 9,
     "metadata": {},
     "output_type": "execute_result"
    }
   ],
   "source": [
    "oneCar.make\n"
   ]
  },
  {
   "cell_type": "code",
   "execution_count": null,
   "metadata": {},
   "outputs": [],
   "source": []
  }
 ],
 "metadata": {
  "kernelspec": {
   "display_name": "Python 3",
   "language": "python",
   "name": "python3"
  },
  "language_info": {
   "codemirror_mode": {
    "name": "ipython",
    "version": 3
   },
   "file_extension": ".py",
   "mimetype": "text/x-python",
   "name": "python",
   "nbconvert_exporter": "python",
   "pygments_lexer": "ipython3",
   "version": "3.7.6"
  }
 },
 "nbformat": 4,
 "nbformat_minor": 4
}
