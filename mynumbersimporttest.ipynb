{
 "cells": [
  {
   "cell_type": "code",
   "execution_count": 7,
   "metadata": {},
   "outputs": [
    {
     "name": "stdout",
     "output_type": "stream",
     "text": [
      "True\n",
      "20\n",
      "None\n"
     ]
    }
   ],
   "source": [
    "from MyNumbers import mynumber\n",
    "\n",
    "testingNumber = mynumber(6)\n",
    "\n",
    "check = testingNumber.isEven()\n",
    "print(check)\n",
    "\n",
    "testingNumber.number = 20\n",
    "print(testingNumber.number)\n",
    "\n",
    "check = testingNumber.isDiv3()\n",
    "print(check)"
   ]
  },
  {
   "cell_type": "code",
   "execution_count": null,
   "metadata": {},
   "outputs": [],
   "source": []
  }
 ],
 "metadata": {
  "kernelspec": {
   "display_name": "Python 3",
   "language": "python",
   "name": "python3"
  },
  "language_info": {
   "codemirror_mode": {
    "name": "ipython",
    "version": 3
   },
   "file_extension": ".py",
   "mimetype": "text/x-python",
   "name": "python",
   "nbconvert_exporter": "python",
   "pygments_lexer": "ipython3",
   "version": "3.7.6"
  }
 },
 "nbformat": 4,
 "nbformat_minor": 4
}
