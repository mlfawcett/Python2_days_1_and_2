{
 "cells": [
  {
   "cell_type": "code",
   "execution_count": 23,
   "metadata": {},
   "outputs": [
    {
     "name": "stdout",
     "output_type": "stream",
     "text": [
      "0  is an even number.\n",
      "1\n",
      "2  is an even number.\n",
      "3  Fizz\n",
      "4  is an even number.\n",
      "5  Buzz\n",
      "6  is an even number.\n",
      "7\n",
      "8  is an even number.\n",
      "9  Fizz\n",
      "10  is an even number.\n",
      "11\n",
      "12  is an even number.\n",
      "13\n",
      "14  is an even number.\n",
      "15  FizzBuzz\n",
      "16  is an even number.\n",
      "17\n",
      "18  is an even number.\n",
      "19\n",
      "20  is an even number.\n",
      "21  Fizz\n",
      "22  is an even number.\n",
      "23\n",
      "24  is an even number.\n",
      "25  Buzz\n",
      "26  is an even number.\n",
      "27  Fizz\n",
      "28  is an even number.\n",
      "29\n",
      "30  is an even number.\n",
      "31\n",
      "32  is an even number.\n",
      "33  Fizz\n",
      "34  is an even number.\n",
      "35  Buzz\n",
      "36  is an even number.\n",
      "37\n",
      "38  is an even number.\n",
      "39  Fizz\n",
      "40  is an even number.\n",
      "41\n",
      "42  is an even number.\n",
      "43\n",
      "44  is an even number.\n",
      "45  FizzBuzz\n",
      "46  is an even number.\n",
      "47\n",
      "48  is an even number.\n",
      "49\n",
      "50  is an even number.\n",
      "51  Fizz\n",
      "52  is an even number.\n",
      "53\n",
      "54  is an even number.\n",
      "55  Buzz\n",
      "56  is an even number.\n",
      "57  Fizz\n",
      "58  is an even number.\n",
      "59\n",
      "60  is an even number.\n",
      "61\n",
      "62  is an even number.\n",
      "63  Fizz\n",
      "64  is an even number.\n",
      "65  Buzz\n",
      "66  is an even number.\n",
      "67\n",
      "68  is an even number.\n",
      "69  Fizz\n",
      "70  is an even number.\n",
      "71\n",
      "72  is an even number.\n",
      "73\n",
      "74  is an even number.\n",
      "75  FizzBuzz\n",
      "76  is an even number.\n",
      "77\n",
      "78  is an even number.\n",
      "79\n",
      "80  is an even number.\n",
      "81  Fizz\n",
      "82  is an even number.\n",
      "83\n",
      "84  is an even number.\n",
      "85  Buzz\n",
      "86  is an even number.\n",
      "87  Fizz\n",
      "88  is an even number.\n",
      "89\n",
      "90  is an even number.\n",
      "91\n",
      "92  is an even number.\n",
      "93  Fizz\n",
      "94  is an even number.\n",
      "95  Buzz\n",
      "96  is an even number.\n",
      "97\n",
      "98  is an even number.\n",
      "99  Fizz\n",
      "100  is an even number.\n"
     ]
    }
   ],
   "source": [
    "for i in range(0,101):\n",
    "    if i%2 == 0:\n",
    "        print(i,\" is an even number.\")\n",
    "    elif (i%3 == 0) and (i%5 == 0):\n",
    "        print(i, \" FizzBuzz\")\n",
    "    elif i%3 == 0:\n",
    "        print(i, \" Fizz\")\n",
    "    elif i%5 == 0:\n",
    "        print(i, \" Buzz\")\n",
    "    else:\n",
    "        print(i)"
   ]
  },
  {
   "cell_type": "code",
   "execution_count": 15,
   "metadata": {},
   "outputs": [
    {
     "name": "stdout",
     "output_type": "stream",
     "text": [
      "1 \n",
      "2  even number.\n",
      "3  Fizz\n",
      "4  even number.\n",
      "5  Buzz\n",
      "6  Even and Fizz\n",
      "7 \n",
      "8  even number.\n",
      "9  Fizz\n",
      "10  Even and Buzz\n",
      "11 \n",
      "12  Even and Fizz\n",
      "13 \n",
      "14  even number.\n",
      "15  FizzBuzz\n",
      "16  even number.\n",
      "17 \n",
      "18  Even and Fizz\n",
      "19 \n",
      "20  Even and Buzz\n",
      "21  Fizz\n",
      "22  even number.\n",
      "23 \n",
      "24  Even and Fizz\n",
      "25  Buzz\n",
      "26  even number.\n",
      "27  Fizz\n",
      "28  even number.\n",
      "29 \n",
      "30  Even and FizzBuzz\n",
      "31 \n",
      "32  even number.\n",
      "33  Fizz\n",
      "34  even number.\n",
      "35  Buzz\n",
      "36  Even and Fizz\n",
      "37 \n",
      "38  even number.\n",
      "39  Fizz\n",
      "40  Even and Buzz\n",
      "41 \n",
      "42  Even and Fizz\n",
      "43 \n",
      "44  even number.\n",
      "45  FizzBuzz\n",
      "46  even number.\n",
      "47 \n",
      "48  Even and Fizz\n",
      "49 \n",
      "50  Even and Buzz\n",
      "51  Fizz\n",
      "52  even number.\n",
      "53 \n",
      "54  Even and Fizz\n",
      "55  Buzz\n",
      "56  even number.\n",
      "57  Fizz\n",
      "58  even number.\n",
      "59 \n",
      "60  Even and FizzBuzz\n",
      "61 \n",
      "62  even number.\n",
      "63  Fizz\n",
      "64  even number.\n",
      "65  Buzz\n",
      "66  Even and Fizz\n",
      "67 \n",
      "68  even number.\n",
      "69  Fizz\n",
      "70  Even and Buzz\n",
      "71 \n",
      "72  Even and Fizz\n",
      "73 \n",
      "74  even number.\n",
      "75  FizzBuzz\n",
      "76  even number.\n",
      "77 \n",
      "78  Even and Fizz\n",
      "79 \n",
      "80  Even and Buzz\n",
      "81  Fizz\n",
      "82  even number.\n",
      "83 \n",
      "84  Even and Fizz\n",
      "85  Buzz\n",
      "86  even number.\n",
      "87  Fizz\n",
      "88  even number.\n",
      "89 \n",
      "90  Even and FizzBuzz\n",
      "91 \n",
      "92  even number.\n",
      "93  Fizz\n",
      "94  even number.\n",
      "95  Buzz\n",
      "96  Even and Fizz\n",
      "97 \n",
      "98  even number.\n",
      "99  Fizz\n",
      "100  Even and Buzz\n"
     ]
    }
   ],
   "source": [
    "def analyze(number):\n",
    "    if (number%2 == 0) and (number%3 == 0) and (number%5 == 0):\n",
    "        return \" Even and FizzBuzz\"\n",
    "    if (number%2 == 0) and (number%3 == 0):\n",
    "        return \" Even and Fizz\"\n",
    "    if (number%2 == 0) and (number%5 == 0):\n",
    "        return \" Even and Buzz\"\n",
    "    if (number%3 == 0) and (number%5 == 0):\n",
    "        return \" FizzBuzz\"\n",
    "    if number%2 == 0:\n",
    "        return \" even number.\"\n",
    "    if number%3 == 0:\n",
    "        return \" Fizz\"\n",
    "    if number%5 == 0:\n",
    "        return \" Buzz\"\n",
    "    return \"\"\n",
    "\n",
    "for i in range (1, 101):\n",
    "    answer = analyze(i)\n",
    "    print(i, answer)\n"
   ]
  },
  {
   "cell_type": "code",
   "execution_count": 6,
   "metadata": {},
   "outputs": [
    {
     "name": "stdout",
     "output_type": "stream",
     "text": [
      "True\n",
      "True\n",
      "False\n",
      " \n",
      "False\n",
      "True\n",
      "False\n",
      " \n",
      "False\n",
      "False\n",
      "True\n",
      " \n",
      "True\n",
      "True\n",
      "True\n",
      " \n"
     ]
    }
   ],
   "source": [
    "class mynumber:\n",
    "    def __init__(self, val):\n",
    "        self.number = val\n",
    "        \n",
    "    def isEven(self):\n",
    "        if self.number%2 == 0:\n",
    "            return True\n",
    "        else:\n",
    "            return False\n",
    "        \n",
    "    def isDiv3(self):\n",
    "        if self.number%3 == 0:\n",
    "            return True\n",
    "        else:\n",
    "            return False\n",
    "        \n",
    "    def isDiv5(self):\n",
    "        if self.number%5 == 0:\n",
    "            return True\n",
    "        else:\n",
    "            return False\n",
    "        \n",
    "testingNumberOne = mynumber(6)\n",
    "testingNumberTwo = mynumber(3)\n",
    "testingNumberThree = mynumber(5)\n",
    "testingNumberFour = mynumber(30)\n",
    "\n",
    "print(testingNumberOne.isEven())\n",
    "print(testingNumberOne.isDiv3())\n",
    "print(testingNumberOne.isDiv5())\n",
    "print(\" \")\n",
    "\n",
    "print(testingNumberTwo.isEven())\n",
    "print(testingNumberTwo.isDiv3())\n",
    "print(testingNumberTwo.isDiv5())\n",
    "print(\" \")\n",
    "\n",
    "print(testingNumberThree.isEven())\n",
    "print(testingNumberThree.isDiv3())\n",
    "print(testingNumberThree.isDiv5())\n",
    "print(\" \")\n",
    "\n",
    "print(testingNumberFour.isEven())\n",
    "print(testingNumberFour.isDiv3())\n",
    "print(testingNumberFour.isDiv5())\n",
    "print(\" \")"
   ]
  },
  {
   "cell_type": "code",
   "execution_count": 24,
   "metadata": {},
   "outputs": [],
   "source": [
    "f = open(\"mytext.txt\", \"w\")\n",
    "f.write(\"Some random text\\n\")\n",
    "f.write(\"Other stuff\\n\")\n",
    "f.write(\"All done\")\n",
    "f.close()"
   ]
  },
  {
   "cell_type": "code",
   "execution_count": 25,
   "metadata": {},
   "outputs": [
    {
     "name": "stdout",
     "output_type": "stream",
     "text": [
      "Some random text\n",
      "Other stuff\n",
      "All done\n"
     ]
    }
   ],
   "source": [
    "g = open(\"mytext.txt\", \"r\")\n",
    "print(g.read())\n",
    "g.close()"
   ]
  },
  {
   "cell_type": "code",
   "execution_count": 26,
   "metadata": {},
   "outputs": [
    {
     "name": "stdout",
     "output_type": "stream",
     "text": [
      "True\n",
      "12345\n",
      "Michael Fawcett\n",
      "Python\n",
      "3.5\n",
      "\n"
     ]
    }
   ],
   "source": [
    "try:\n",
    "    h = open(\"mytext2.txt\", \"r\")\n",
    "    print(h.read())\n",
    "except:\n",
    "    print(\"File Problems.......:(\")\n",
    "finally:\n",
    "    h.close()"
   ]
  },
  {
   "cell_type": "code",
   "execution_count": 22,
   "metadata": {},
   "outputs": [
    {
     "name": "stdout",
     "output_type": "stream",
     "text": [
      "My name is  Michael Fawcett\n",
      "My major is  Python\n",
      " \n",
      "True\n",
      "12345\n",
      "Michael Fawcett\n",
      "Python\n",
      "3.5\n",
      "\n"
     ]
    }
   ],
   "source": [
    "class Student:\n",
    "    def __init__(self, FullTime, StudID, Name, Major, GPA):\n",
    "        self.isFulltime = FullTime\n",
    "        self.StudentID = StudID\n",
    "        self.Name = Name\n",
    "        self.Major = Major\n",
    "        self.GPA = GPA\n",
    "    \n",
    "    def introduceyourself(self):\n",
    "        print(\"My name is \", self.Name)\n",
    "        print(\"My major is \", self.Major)\n",
    "        print(\" \")\n",
    "        \n",
    "    def saveStudent(self):\n",
    "        try:\n",
    "            h = open(\"mytext2.txt\", \"w\")\n",
    "            h.write(str(self.isFulltime) + \"\\n\")\n",
    "            h.write(self.StudentID + \"\\n\")\n",
    "            h.write(self.Name + \"\\n\")\n",
    "            h.write(self.Major + \"\\n\")\n",
    "            h.write(self.GPA + \"\\n\")\n",
    "        except:\n",
    "             print(\"File Problems.......:(\")\n",
    "        finally:\n",
    "            h.close()\n",
    "\n",
    "studentOne = Student(True, \"12345\", \"Michael Fawcett\", \"Python\", \"3.5\")\n",
    "\n",
    "studentOne.introduceyourself()\n",
    "studentOne.saveStudent()\n",
    "\n",
    "f = open(\"mytext2.txt\", \"r\")\n",
    "print(f.read())\n",
    "f.close()"
   ]
  },
  {
   "cell_type": "markdown",
   "metadata": {},
   "source": [
    "Please make a class called Home that has 5 variables. The variables/attributes should be price, rooms, size, bathrooms, location. Please add a method/function that will display or print the information out nicely and neatly."
   ]
  },
  {
   "cell_type": "code",
   "execution_count": 28,
   "metadata": {},
   "outputs": [
    {
     "name": "stdout",
     "output_type": "stream",
     "text": [
      "Home price is $ 300000\n",
      "Number of rooms are  5\n",
      "Home size is  15000  square feet\n",
      "Number of bathrooms is  2.5\n",
      "Home location is  Bowie\n"
     ]
    }
   ],
   "source": [
    "class Home:\n",
    "    def __init__(self, price, rooms, size, bathrooms, location):\n",
    "        self.Price = price\n",
    "        self.Rooms = rooms\n",
    "        self.Size = size\n",
    "        self.Bathrooms = bathrooms\n",
    "        self.Location = location\n",
    "        \n",
    "    def showHome(self):\n",
    "        print(\"Home price is $\", self.Price)\n",
    "        print(\"Number of rooms are \", self.Rooms)\n",
    "        print(\"Home size is \", self.Size, \" square feet\")\n",
    "        print(\"Number of bathrooms is \", self.Bathrooms)\n",
    "        print(\"Home location is \", self.Location)\n",
    "        \n",
    "MyHome = Home(300000, 5, 15000, 2.5, \"Bowie\")\n",
    "MyHome.showHome()\n",
    "\n"
   ]
  },
  {
   "cell_type": "markdown",
   "metadata": {},
   "source": [
    "Please create an instance of the Home class and give it 300000 for the price, 4 rooms, 4500 sqft, 3.5 bathrooms, and Cloverly,Maryland for the location. Please use your function to print out the information for yourself."
   ]
  },
  {
   "cell_type": "code",
   "execution_count": 29,
   "metadata": {},
   "outputs": [
    {
     "name": "stdout",
     "output_type": "stream",
     "text": [
      "Home price is $ 300000\n",
      "Number of rooms are  4\n",
      "Home size is  4500  square feet\n",
      "Number of bathrooms is  3.5\n",
      "Home location is  Cloverly, Maryland\n"
     ]
    }
   ],
   "source": [
    "NewHome = Home(300000, 4, 4500, 3.5, \"Cloverly, Maryland\")\n",
    "NewHome.showHome()"
   ]
  },
  {
   "cell_type": "markdown",
   "metadata": {},
   "source": [
    "Please change the attribute called rooms from 4 to 4.5 now. and Print out the information again."
   ]
  },
  {
   "cell_type": "code",
   "execution_count": 30,
   "metadata": {},
   "outputs": [
    {
     "name": "stdout",
     "output_type": "stream",
     "text": [
      "Home price is $ 300000\n",
      "Number of rooms are  4.5\n",
      "Home size is  4500  square feet\n",
      "Number of bathrooms is  3.5\n",
      "Home location is  Cloverly, Maryland\n"
     ]
    }
   ],
   "source": [
    "NewHome.Rooms = 4.5\n",
    "NewHome.showHome()"
   ]
  },
  {
   "cell_type": "markdown",
   "metadata": {},
   "source": [
    "Please create a class called Friend with 2 variables. called name and called relationship which is the relationship to you.\n",
    "Please create a class called Me with 3 variables. your name,last name, and friends."
   ]
  },
  {
   "cell_type": "code",
   "execution_count": 75,
   "metadata": {},
   "outputs": [],
   "source": [
    "class Friend:\n",
    "    def __init__(self, name, relationship):\n",
    "        self.Name = name\n",
    "        self.Relationship = relationship\n",
    "        \n",
    "class Me:\n",
    "    def __init__(self, firstname, lastname):\n",
    "        self.FirstName = firstname\n",
    "        self.LastName = lastname\n",
    "        self.FriendNames = []                              # How can you make this an object?\n",
    "    "
   ]
  },
  {
   "cell_type": "markdown",
   "metadata": {},
   "source": [
    "Make an 3 instances of the friend class and one instance of the Me class. Please add each of your friends into the friends variable. (Hint think of an empty list for the contructor)"
   ]
  },
  {
   "cell_type": "code",
   "execution_count": 80,
   "metadata": {},
   "outputs": [
    {
     "name": "stdout",
     "output_type": "stream",
     "text": [
      "Michael\n",
      "Fawcett\n",
      "George Best\n",
      "John Acquaintance\n",
      "George\n",
      "John\n"
     ]
    }
   ],
   "source": [
    "friendOne = Friend(\"George\", \"Best\")\n",
    "friendTwo = Friend(\"John\", \"Acquaintance\")\n",
    "meOne = Me(\"Michael\", \"Fawcett\")\n",
    "meOne.my_friend_one = friendOne\n",
    "meOne.my_friend_two = friendTwo\n",
    "\n",
    "print(meOne.FirstName)\n",
    "print(meOne.LastName)\n",
    "print(meOne.my_friend_one.Name, meOne.my_friend_one.Relationship)\n",
    "print(meOne.my_friend_two.Name, meOne.my_friend_two.Relationship)\n",
    "\n",
    "\n",
    "meOne.FriendNames.append(friendOne.Name)\n",
    "meOne.FriendNames.append(friendTwo.Name)\n",
    "\n",
    "for name in meOne.FriendNames:\n",
    "    print(name) \n"
   ]
  },
  {
   "cell_type": "markdown",
   "metadata": {},
   "source": [
    "Make a class called Wonky. wonky has 2 variables is_sleeping and is_happy.\n",
    "Include 2 functions called sleep, wake_up.\n",
    "sleep function should change your is_sleeping to True and is_happy to True\n",
    "wake_up function should change is_sleeping to False and is_happy to False"
   ]
  },
  {
   "cell_type": "code",
   "execution_count": 56,
   "metadata": {},
   "outputs": [
    {
     "name": "stdout",
     "output_type": "stream",
     "text": [
      "True True\n",
      "False False\n"
     ]
    }
   ],
   "source": [
    "class Wonky:\n",
    "    def __init__(self):\n",
    "        self.is_sleeping = False\n",
    "        self.is_happy = False\n",
    "        \n",
    "    def sleep(self):\n",
    "        self.is_sleeping = True\n",
    "        self.is_happy = True\n",
    "        \n",
    "    def wake_up(self):\n",
    "        self.is_sleeping = False\n",
    "        self.is_happy = False\n",
    "        \n",
    "MyWonky = Wonky()\n",
    "\n",
    "MyWonky.sleep()\n",
    "print(MyWonky.is_sleeping, MyWonky.is_happy)\n",
    "\n",
    "MyWonky.wake_up()\n",
    "print(MyWonky.is_sleeping, MyWonky.is_happy)"
   ]
  },
  {
   "cell_type": "markdown",
   "metadata": {},
   "source": [
    "Make an instance called w and make him go to sleep. Print out what those values are when you make w go to sleep."
   ]
  },
  {
   "cell_type": "code",
   "execution_count": 57,
   "metadata": {},
   "outputs": [
    {
     "name": "stdout",
     "output_type": "stream",
     "text": [
      "True True\n",
      "False False\n"
     ]
    }
   ],
   "source": [
    "w = Wonky()\n",
    "\n",
    "w.sleep()\n",
    "print(w.is_sleeping, w.is_happy)\n",
    "\n",
    "w.wake_up()\n",
    "print(w.is_sleeping, w.is_happy)"
   ]
  },
  {
   "cell_type": "markdown",
   "metadata": {},
   "source": [
    "Make a try except for a Zerodivision exception. And try it out"
   ]
  },
  {
   "cell_type": "code",
   "execution_count": 60,
   "metadata": {},
   "outputs": [
    {
     "name": "stdout",
     "output_type": "stream",
     "text": [
      "Division by zero not defined!\n"
     ]
    }
   ],
   "source": [
    "x = 5\n",
    "y = 0\n",
    "\n",
    "try:\n",
    "    z = x/y\n",
    "    print(z)\n",
    "except ZeroDivisionError:\n",
    "    print(\"Division by zero not defined!\")\n",
    "\n",
    "    "
   ]
  },
  {
   "cell_type": "raw",
   "metadata": {},
   "source": [
    "Make a try except with a general exception and a else statement. "
   ]
  },
  {
   "cell_type": "code",
   "execution_count": 63,
   "metadata": {},
   "outputs": [
    {
     "name": "stdout",
     "output_type": "stream",
     "text": [
      "5.0\n"
     ]
    }
   ],
   "source": [
    "x = 5\n",
    "y = 1\n",
    "\n",
    "try:\n",
    "    z = x/y\n",
    "except:\n",
    "    print(\"Something went wrong!\")\n",
    "else:\n",
    "    print(z)"
   ]
  },
  {
   "cell_type": "markdown",
   "metadata": {},
   "source": [
    "Explain OOP to yourself and what are the three unique defining things of OOP?"
   ]
  },
  {
   "cell_type": "code",
   "execution_count": null,
   "metadata": {},
   "outputs": [],
   "source": [
    "'''\n",
    "A way of taking broad ideas and conslidating them with/as a 'Class' with 'Objects' and 'Methods'.\n",
    "A Class is the overaching description and methods that a given particular Object will have.\n",
    "'''"
   ]
  },
  {
   "cell_type": "markdown",
   "metadata": {},
   "source": [
    "Make an example of polymorphism and comment where the polymorphism is occuring. What is polymorphism?"
   ]
  },
  {
   "cell_type": "code",
   "execution_count": 9,
   "metadata": {},
   "outputs": [
    {
     "name": "stdout",
     "output_type": "stream",
     "text": [
      "My name is Michael and I can make a sound\n",
      "My name is Thomas and I bark\n",
      "My name is Philip and I meow\n"
     ]
    }
   ],
   "source": [
    "# an instantiation of an object can have more that one action\n",
    "\n",
    "class Animal(object):\n",
    "    def __init__(self,name):\n",
    "        self.name = name\n",
    "    def Talk(self):\n",
    "        print(f\"My name is {self.name} and I can make a sound\")\n",
    "class Dog(Animal):\n",
    "    def __init__(self,name):\n",
    "        super().__init__(name)\n",
    "    def Talk(self):\n",
    "        print(f\"My name is {self.name} and I bark\")\n",
    "class Cat(Animal):\n",
    "    def __init__(self,name):\n",
    "        super().__init__(name)\n",
    "    def Talk(self):\n",
    "        print(f\"My name is {self.name} and I meow\")\n",
    "        \n",
    "animal1 = Animal(\"Michael\")\n",
    "animal2 = Dog(\"Thomas\")\n",
    "animal3 = Cat(\"Philip\")\n",
    "\n",
    "animal1.Talk()\n",
    "animal2.Talk()\n",
    "animal3.Talk()  "
   ]
  },
  {
   "cell_type": "markdown",
   "metadata": {},
   "source": [
    "Explain what composition is versus inheritance?"
   ]
  },
  {
   "cell_type": "code",
   "execution_count": null,
   "metadata": {},
   "outputs": [],
   "source": [
    "# Composition is combining features from different places into an object.  Inheritance is gaining features \n",
    "# that come from the parent object."
   ]
  },
  {
   "cell_type": "markdown",
   "metadata": {},
   "source": [
    "Make a Vehicle class and allow the car, truck, and tank class inherit from it. "
   ]
  },
  {
   "cell_type": "code",
   "execution_count": 16,
   "metadata": {},
   "outputs": [
    {
     "name": "stdout",
     "output_type": "stream",
     "text": [
      "car front wheel ford mustang 4\n",
      "car rear wheel chevy malibu 4\n",
      "truck rear wheel ford f-150 4\n",
      "truck all wheel ford f-350 6\n",
      "tank treads army sherman 0\n",
      "tank treads army abrahams 0\n"
     ]
    }
   ],
   "source": [
    "class Vehicle:\n",
    "    def __init__(self, Type, Drive):\n",
    "        self.Type = Type\n",
    "        self.Drive = Drive\n",
    "\n",
    "class Car(Vehicle):\n",
    "    def __init__(self, Type, Drive, Make, Model, Wheels):\n",
    "        super().__init__(Type, Drive)\n",
    "        self.Make = Make\n",
    "        self.Model = Model\n",
    "        self.Wheels = Wheels\n",
    "\n",
    "class Truck(Vehicle):\n",
    "    def __init__(self, Type, Drive, Make, Model, Wheels):\n",
    "        super().__init__(Type, Drive)\n",
    "        self.Make = Make\n",
    "        self.Model = Model\n",
    "        self.Wheels = Wheels\n",
    "        \n",
    "class Tank(Vehicle):\n",
    "    def __init__(self, Type, Drive, Make, Model, Wheels):\n",
    "        super().__init__(Type, Drive)\n",
    "        self.Make = Make\n",
    "        self.Model = Model\n",
    "        self.Wheels = Wheels\n",
    "        \n",
    "CarOne = Car(\"car\", \"front wheel\", \"ford\", \"mustang\", \"4\")\n",
    "CarTwo = Car(\"car\", \"rear wheel\", \"chevy\", \"malibu\", \"4\")\n",
    "\n",
    "TruckOne = Truck(\"truck\", \"rear wheel\", \"ford\", \"f-150\", \"4\")\n",
    "TruckTwo = Truck(\"truck\", \"all wheel\", \"ford\", \"f-350\", \"6\")\n",
    "\n",
    "TankOne = Tank(\"tank\", \"treads\", \"army\", \"sherman\", \"0\")\n",
    "TankTwo = Tank(\"tank\", \"treads\", \"army\", \"abrahams\", \"0\")\n",
    "\n",
    "print(CarOne.Type, CarOne.Drive, CarOne.Make, CarOne.Model, CarOne.Wheels)\n",
    "print(CarTwo.Type, CarTwo.Drive, CarTwo.Make, CarTwo.Model, CarTwo.Wheels)\n",
    "print(TruckOne.Type, TruckOne.Drive, TruckOne.Make, TruckOne.Model, TruckOne.Wheels)\n",
    "print(TruckTwo.Type, TruckTwo.Drive, TruckTwo.Make, TruckTwo.Model, TruckTwo.Wheels)\n",
    "print(TankOne.Type, TankOne.Drive, TankOne.Make, TankOne.Model, TankOne.Wheels)\n",
    "print(TankTwo.Type, TankTwo.Drive, TankTwo.Make, TankTwo.Model, TankTwo.Wheels)"
   ]
  },
  {
   "cell_type": "markdown",
   "metadata": {},
   "source": [
    "Explain a is-a versus has-a relationship.\n",
    "Explain how many types of relationships there are OOP. What are the three?"
   ]
  },
  {
   "cell_type": "code",
   "execution_count": null,
   "metadata": {},
   "outputs": [],
   "source": [
    "# is-a  -  denotes an inheritance. It is a particular kind of object.\n",
    "\n",
    "# has-a  -  denotes a composition.  It has functions that come from somewhere."
   ]
  },
  {
   "cell_type": "markdown",
   "metadata": {},
   "source": [
    "Create a protected variable/attribute for your Vehicle class now"
   ]
  },
  {
   "cell_type": "code",
   "execution_count": 19,
   "metadata": {},
   "outputs": [
    {
     "name": "stdout",
     "output_type": "stream",
     "text": [
      "car front wheel ford mustang 4\n",
      "car rear wheel chevy malibu 4\n",
      "truck rear wheel ford f-150 4\n",
      "truck all wheel ford f-350 6\n",
      "tank treads army sherman 0\n",
      "tank treads army abrahams 0\n",
      "\n",
      "Fast\n"
     ]
    }
   ],
   "source": [
    "class Vehicle:\n",
    "    def __init__(self, Type, Drive):\n",
    "        self.Type = Type\n",
    "        self.Drive = Drive\n",
    "        self._Speed = \"Fast\"\n",
    "        \n",
    "\n",
    "class Car(Vehicle):\n",
    "    def __init__(self, Type, Drive, Make, Model, Wheels):\n",
    "        super().__init__(Type, Drive)\n",
    "        self.Make = Make\n",
    "        self.Model = Model\n",
    "        self.Wheels = Wheels\n",
    "\n",
    "class Truck(Vehicle):\n",
    "    def __init__(self, Type, Drive, Make, Model, Wheels):\n",
    "        super().__init__(Type, Drive)\n",
    "        self.Make = Make\n",
    "        self.Model = Model\n",
    "        self.Wheels = Wheels\n",
    "        \n",
    "class Tank(Vehicle):\n",
    "    def __init__(self, Type, Drive, Make, Model, Wheels):\n",
    "        super().__init__(Type, Drive)\n",
    "        self.Make = Make\n",
    "        self.Model = Model\n",
    "        self.Wheels = Wheels\n",
    "        \n",
    "CarOne = Car(\"car\", \"front wheel\", \"ford\", \"mustang\", \"4\")\n",
    "CarTwo = Car(\"car\", \"rear wheel\", \"chevy\", \"malibu\", \"4\")\n",
    "\n",
    "TruckOne = Truck(\"truck\", \"rear wheel\", \"ford\", \"f-150\", \"4\")\n",
    "TruckTwo = Truck(\"truck\", \"all wheel\", \"ford\", \"f-350\", \"6\")\n",
    "\n",
    "TankOne = Tank(\"tank\", \"treads\", \"army\", \"sherman\", \"0\")\n",
    "TankTwo = Tank(\"tank\", \"treads\", \"army\", \"abrahams\", \"0\")\n",
    "\n",
    "print(CarOne.Type, CarOne.Drive, CarOne.Make, CarOne.Model, CarOne.Wheels)\n",
    "print(CarTwo.Type, CarTwo.Drive, CarTwo.Make, CarTwo.Model, CarTwo.Wheels)\n",
    "print(TruckOne.Type, TruckOne.Drive, TruckOne.Make, TruckOne.Model, TruckOne.Wheels)\n",
    "print(TruckTwo.Type, TruckTwo.Drive, TruckTwo.Make, TruckTwo.Model, TruckTwo.Wheels)\n",
    "print(TankOne.Type, TankOne.Drive, TankOne.Make, TankOne.Model, TankOne.Wheels)\n",
    "print(TankTwo.Type, TankTwo.Drive, TankTwo.Make, TankTwo.Model, TankTwo.Wheels)\n",
    "print()\n",
    "print(CarOne._Speed)"
   ]
  },
  {
   "cell_type": "markdown",
   "metadata": {},
   "source": [
    "Create a private variable/attribute in your Vehicle class now"
   ]
  },
  {
   "cell_type": "code",
   "execution_count": 21,
   "metadata": {},
   "outputs": [
    {
     "name": "stdout",
     "output_type": "stream",
     "text": [
      "car front wheel ford mustang 4\n",
      "car rear wheel chevy malibu 4\n",
      "truck rear wheel ford f-150 4\n",
      "truck all wheel ford f-350 6\n",
      "tank treads army sherman 0\n",
      "tank treads army abrahams 0\n",
      "\n",
      "Fast\n",
      "\n"
     ]
    },
    {
     "ename": "AttributeError",
     "evalue": "'Tank' object has no attribute '__Wepons'",
     "output_type": "error",
     "traceback": [
      "\u001b[0;31m---------------------------------------------------------------------------\u001b[0m",
      "\u001b[0;31mAttributeError\u001b[0m                            Traceback (most recent call last)",
      "\u001b[0;32m<ipython-input-21-35e4707306f2>\u001b[0m in \u001b[0;36m<module>\u001b[0;34m\u001b[0m\n\u001b[1;32m     45\u001b[0m \u001b[0mprint\u001b[0m\u001b[0;34m(\u001b[0m\u001b[0mCarOne\u001b[0m\u001b[0;34m.\u001b[0m\u001b[0m_Speed\u001b[0m\u001b[0;34m)\u001b[0m\u001b[0;34m\u001b[0m\u001b[0;34m\u001b[0m\u001b[0m\n\u001b[1;32m     46\u001b[0m \u001b[0mprint\u001b[0m\u001b[0;34m(\u001b[0m\u001b[0;34m)\u001b[0m\u001b[0;34m\u001b[0m\u001b[0;34m\u001b[0m\u001b[0m\n\u001b[0;32m---> 47\u001b[0;31m \u001b[0mprint\u001b[0m\u001b[0;34m(\u001b[0m\u001b[0mTankOne\u001b[0m\u001b[0;34m.\u001b[0m\u001b[0m__Wepons\u001b[0m\u001b[0;34m)\u001b[0m\u001b[0;34m\u001b[0m\u001b[0;34m\u001b[0m\u001b[0m\n\u001b[0m",
      "\u001b[0;31mAttributeError\u001b[0m: 'Tank' object has no attribute '__Wepons'"
     ]
    }
   ],
   "source": [
    "class Vehicle:\n",
    "    def __init__(self, Type, Drive):\n",
    "        self.Type = Type\n",
    "        self.Drive = Drive\n",
    "        self._Speed = \"Fast\"\n",
    "        self.__Wepons = \"Canon\"\n",
    "\n",
    "class Car(Vehicle):\n",
    "    def __init__(self, Type, Drive, Make, Model, Wheels):\n",
    "        super().__init__(Type, Drive)\n",
    "        self.Make = Make\n",
    "        self.Model = Model\n",
    "        self.Wheels = Wheels\n",
    "\n",
    "class Truck(Vehicle):\n",
    "    def __init__(self, Type, Drive, Make, Model, Wheels):\n",
    "        super().__init__(Type, Drive)\n",
    "        self.Make = Make\n",
    "        self.Model = Model\n",
    "        self.Wheels = Wheels\n",
    "        \n",
    "class Tank(Vehicle):\n",
    "    def __init__(self, Type, Drive, Make, Model, Wheels):\n",
    "        super().__init__(Type, Drive)\n",
    "        self.Make = Make\n",
    "        self.Model = Model\n",
    "        self.Wheels = Wheels\n",
    "        \n",
    "CarOne = Car(\"car\", \"front wheel\", \"ford\", \"mustang\", \"4\")\n",
    "CarTwo = Car(\"car\", \"rear wheel\", \"chevy\", \"malibu\", \"4\")\n",
    "\n",
    "TruckOne = Truck(\"truck\", \"rear wheel\", \"ford\", \"f-150\", \"4\")\n",
    "TruckTwo = Truck(\"truck\", \"all wheel\", \"ford\", \"f-350\", \"6\")\n",
    "\n",
    "TankOne = Tank(\"tank\", \"treads\", \"army\", \"sherman\", \"0\")\n",
    "TankTwo = Tank(\"tank\", \"treads\", \"army\", \"abrahams\", \"0\")\n",
    "\n",
    "print(CarOne.Type, CarOne.Drive, CarOne.Make, CarOne.Model, CarOne.Wheels)\n",
    "print(CarTwo.Type, CarTwo.Drive, CarTwo.Make, CarTwo.Model, CarTwo.Wheels)\n",
    "print(TruckOne.Type, TruckOne.Drive, TruckOne.Make, TruckOne.Model, TruckOne.Wheels)\n",
    "print(TruckTwo.Type, TruckTwo.Drive, TruckTwo.Make, TruckTwo.Model, TruckTwo.Wheels)\n",
    "print(TankOne.Type, TankOne.Drive, TankOne.Make, TankOne.Model, TankOne.Wheels)\n",
    "print(TankTwo.Type, TankTwo.Drive, TankTwo.Make, TankTwo.Model, TankTwo.Wheels)\n",
    "print()\n",
    "print(CarOne._Speed)\n",
    "print()\n",
    "print(TankOne.__Wepons)"
   ]
  },
  {
   "cell_type": "markdown",
   "metadata": {},
   "source": [
    "Can I access the protected and private variables? (Yes or No and why?)"
   ]
  },
  {
   "cell_type": "code",
   "execution_count": null,
   "metadata": {},
   "outputs": [],
   "source": [
    "# protected yes - it's just a convention\n",
    "# private only from inside the object not from outside of the object."
   ]
  }
 ],
 "metadata": {
  "kernelspec": {
   "display_name": "Python 3",
   "language": "python",
   "name": "python3"
  },
  "language_info": {
   "codemirror_mode": {
    "name": "ipython",
    "version": 3
   },
   "file_extension": ".py",
   "mimetype": "text/x-python",
   "name": "python",
   "nbconvert_exporter": "python",
   "pygments_lexer": "ipython3",
   "version": "3.7.6"
  }
 },
 "nbformat": 4,
 "nbformat_minor": 4
}
